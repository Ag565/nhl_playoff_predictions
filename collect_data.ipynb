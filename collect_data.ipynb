{
 "cells": [
  {
   "cell_type": "code",
   "execution_count": 162,
   "metadata": {
    "collapsed": true
   },
   "outputs": [],
   "source": [
    "import pandas\n",
    "import requests \n",
    "from bs4 import BeautifulSoup\n",
    "import json\n",
    "import numpy as np\n",
    "\n",
    "import pickle\n"
   ]
  },
  {
   "cell_type": "markdown",
   "metadata": {},
   "source": [
    "# Scrape the data"
   ]
  },
  {
   "cell_type": "markdown",
   "metadata": {},
   "source": [
    "Very easy once we figured out the right URL to hit (it returns JSON!)"
   ]
  },
  {
   "cell_type": "code",
   "execution_count": 48,
   "metadata": {
    "collapsed": false
   },
   "outputs": [],
   "source": [
    "def scrape_season(url, season_id, game_type):\n",
    "    r = requests.get(url)\n",
    "    time.sleep(1)\n",
    "    json_data = json.loads(r.text)\n",
    "    df = pandas.DataFrame(json_data['data'])\n",
    "    df['season_id'] = season_id\n",
    "    df['game_type'] = game_type\n",
    "    return df\n",
    "                  "
   ]
  },
  {
   "cell_type": "code",
   "execution_count": 52,
   "metadata": {
    "collapsed": false
   },
   "outputs": [
    {
     "name": "stdout",
     "output_type": "stream",
     "text": [
      "20102011\n",
      "20112012\n",
      "20122013\n",
      "20132014\n",
      "20142015\n"
     ]
    }
   ],
   "source": [
    "\n",
    "dataframe_list = []\n",
    "base_url = 'http://www.nhl.com/stats/rest/grouped/teams/game/teamsummary?cayenneExp=seasonId=%s&gameTypeId=%s'\n",
    "for s in np.arange(2010, 2016):\n",
    "    season_id = str(s) + str(s+1)\n",
    "    print season_id\n",
    "    regular_season_url = base_url % (season_id, 2)\n",
    "    playoff_url = base_url % (season_id,3)\n",
    "    \n",
    "    regular_season_df = scrape_season(regular_season_url, season_id, 'regular')\n",
    "    dataframe_list.append(regular_season_df)\n",
    "\n",
    "    if s != 2015:\n",
    "        playoff_url = base_url % (season_id,3)\n",
    "        playoff_df = scrape_season(playoff_url, season_id, 'playoff')\n",
    "        dataframe_list.append(playoff_df)\n",
    "\n",
    "game_data_df = pandas.concat(dataframe_list)\n",
    "game_data_df.reset_index(inplace=True, drop=True)\n",
    "\n",
    "#save it to be safe!\n",
    "game_data_df.to_csv('nhl_game_data.csv', index=False, encoding='utf-8')"
   ]
  },
  {
   "cell_type": "code",
   "execution_count": null,
   "metadata": {
    "collapsed": true
   },
   "outputs": [],
   "source": []
  }
 ],
 "metadata": {
  "kernelspec": {
   "display_name": "Python 2",
   "language": "python",
   "name": "python2"
  },
  "language_info": {
   "codemirror_mode": {
    "name": "ipython",
    "version": 2
   },
   "file_extension": ".py",
   "mimetype": "text/x-python",
   "name": "python",
   "nbconvert_exporter": "python",
   "pygments_lexer": "ipython2",
   "version": "2.7.11"
  }
 },
 "nbformat": 4,
 "nbformat_minor": 0
}

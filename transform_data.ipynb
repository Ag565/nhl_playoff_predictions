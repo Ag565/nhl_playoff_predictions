{
 "cells": [
  {
   "cell_type": "code",
   "execution_count": 162,
   "metadata": {
    "collapsed": true
   },
   "outputs": [],
   "source": [
    "import pandas\n",
    "import requests \n",
    "from bs4 import BeautifulSoup\n",
    "import json\n",
    "import numpy as np\n",
    "\n",
    "import pickle\n"
   ]
  },
  {
   "cell_type": "markdown",
   "metadata": {},
   "source": [
    "# Derive some stats and stuff"
   ]
  },
  {
   "cell_type": "markdown",
   "metadata": {},
   "source": [
    "The NHL data doesn't quite have everything. We might need to a few simple calculations from the data (noteably, save percentage). "
   ]
  },
  {
   "cell_type": "code",
   "execution_count": 3,
   "metadata": {
    "collapsed": false
   },
   "outputs": [],
   "source": [
    "game_data_df = pandas.read_csv('/Users/greg/Desktop/nhl_game_data.csv')\n",
    "\n",
    "#Seems like I scraped certain seasons too many times, so let's just drop duplicate rows\n",
    "\n",
    "game_data_df.drop_duplicates(subset=['gameId','teamAbbrev','game_type'],inplace=True)"
   ]
  },
  {
   "cell_type": "code",
   "execution_count": 4,
   "metadata": {
    "collapsed": false
   },
   "outputs": [],
   "source": [
    "game_data_df['save_percentage'] = 1.0 - (1.0*game_data_df.goalsAgainst) / (game_data_df.shotsAgainst)\n",
    "game_data_df['home_game'] = 1.0*(game_data_df.gameLocationCode=='H')\n",
    "game_data_df['regulation_win'] = 1.0*(game_data_df.points==2)\n",
    "game_data_df['win_percentage'] = (1.0*game_data_df.wins)/ (1.0*game_data_df.gamesPlayed)\n",
    "game_data_df['standing_points_per_game'] = (1.0*game_data_df.points)/ (1.0*game_data_df.gamesPlayed)"
   ]
  },
  {
   "cell_type": "markdown",
   "metadata": {},
   "source": [
    "# Compute rolling statistics"
   ]
  },
  {
   "cell_type": "code",
   "execution_count": 5,
   "metadata": {
    "collapsed": false
   },
   "outputs": [],
   "source": [
    "game_data_df['gameDate']= pandas.to_datetime(game_data_df.gameDate)\n",
    "game_data_df.sort_values(by='gameDate', inplace=True)"
   ]
  },
  {
   "cell_type": "code",
   "execution_count": 6,
   "metadata": {
    "collapsed": false
   },
   "outputs": [],
   "source": [
    "def convert_stat(df, metric, rolling_game_windows):\n",
    "    df[metric+'_expanding_mean'] = df.groupby(['season_id','teamAbbrev'])[metric].apply(pandas.expanding_mean)\n",
    "    df[metric+'_expanding_mean'] = df.groupby(['season_id','teamAbbrev'])[metric+'_expanding_mean'].shift(1)\n",
    "    added_stats = [metric + '_expanding_mean']                                      \n",
    "    for window_size in rolling_game_windows:\n",
    "        rolling_func = lambda x: pandas.rolling_mean(x,window_size, min_periods=0)\n",
    "        col_name = metric + '_rolling_mean_' + str(window_size)\n",
    "        df[col_name] = df.groupby(['season_id','teamAbbrev'])[metric].apply(rolling_func)\n",
    "        df[col_name] = df.groupby(['season_id','teamAbbrev'])[col_name].shift(1)                                    \n",
    "        added_stats.append(col_name)\n",
    "    \n",
    "    \n",
    "    return df, added_stats"
   ]
  },
  {
   "cell_type": "code",
   "execution_count": 7,
   "metadata": {
    "collapsed": false
   },
   "outputs": [],
   "source": [
    "metrics = ['shotsFor',\n",
    "          'shotsAgainst',\n",
    "          'save_percentage',\n",
    "          'faceoffWinPctg',\n",
    "          'goalsFor',\n",
    "          'goalsAgainst',\n",
    "          'ppOpportunities',\n",
    "          'shNumTimes',\n",
    "          'ppPctg',\n",
    "           'points',\n",
    "          ]\n",
    "team_stats = []\n",
    "window_sizes = [5,10,25]\n",
    "for m in metrics:\n",
    "    game_data_df, new_stats = convert_stat(game_data_df, m, window_sizes)\n",
    "    team_stats.extend(new_stats)\n",
    "    \n",
    "opponent_data = game_data_df.groupby(['teamAbbrev','gameId'])[team_stats].min()\n",
    "\n",
    "opponent_stats = [m + '_opponent' for m in team_stats]\n",
    "\n",
    "game_data_df = game_data_df.join(opponent_data, on=['opponentTeamAbbrev','gameId'],rsuffix='_opponent')\n",
    "\n",
    "\n",
    "game_data_df['team_season_id'] = game_data_df.teamAbbrev + game_data_df.season_id.astype(str)\n",
    "game_data_df['team_season_id_opponent'] = game_data_df.opponentTeamAbbrev + game_data_df.season_id.astype(str)\n",
    "\n",
    "game_data_df.to_csv('/Users/greg/Desktop/nhl_game_data_converted.csv', index=False, encoding='utf-8')\n",
    "\n",
    "import pickle\n",
    "\n",
    "pickle.dump(team_stats, file('team_stats.txt','w'))\n",
    "pickle.dump(opponent_stats, file('opponent_stats.txt','w'))"
   ]
  },
  {
   "cell_type": "code",
   "execution_count": 3,
   "metadata": {
    "collapsed": true
   },
   "outputs": [],
   "source": [
    "def create_playoff_prediction_data(regular_season_data, playoff_data, team_stats):\n",
    "    season_end_team_stats = regular_season_data.groupby(['teamAbbrev','season_id'])[team_stats+['team_season_id']].last()\n",
    "\n",
    "    temp_playoff_data = playoff_data[['teamAbbrev','opponentTeamAbbrev','season_id','wins','home_game']].copy()\n",
    "\n",
    "    playoff_games = temp_playoff_data.join(season_end_team_stats, on=['teamAbbrev','season_id'])\n",
    "    playoff_games = playoff_games.join(season_end_team_stats, on=['opponentTeamAbbrev','season_id'], rsuffix='_opponent')\n",
    "    \n",
    "    return playoff_games"
   ]
  },
  {
   "cell_type": "code",
   "execution_count": 125,
   "metadata": {
    "collapsed": true
   },
   "outputs": [],
   "source": [
    "data = pandas.read_csv('/Users/greg/Desktop/nhl_game_data_converted.csv')\n",
    "data.dropna(inplace=True)\n",
    "\n",
    "data.drop_duplicates(subset=['game_type','gameId'], inplace=True)"
   ]
  },
  {
   "cell_type": "code",
   "execution_count": 160,
   "metadata": {
    "collapsed": false
   },
   "outputs": [],
   "source": [
    "team_stats = pickle.load(file('team_stats.txt'))\n",
    "opponent_stats = pickle.load(file('opponent_stats.txt'))\n",
    "\n",
    "regular_season_data = data[data.game_type=='regular']\n",
    "_playoff_data = data[data.game_type=='playoff']\n",
    "\n",
    "playoff_data = create_playoff_prediction_data(regular_season_data, _playoff_data, team_stats)"
   ]
  },
  {
   "cell_type": "code",
   "execution_count": null,
   "metadata": {
    "collapsed": true
   },
   "outputs": [],
   "source": [
    "regular_season_data.to_csv('regular_season_data.csv', index=False)\n",
    "playoff_data.to_csv('playoff_data.csv', index=False)"
   ]
  },
  {
   "cell_type": "markdown",
   "metadata": {},
   "source": [
    "# Generate playoff schedule"
   ]
  },
  {
   "cell_type": "code",
   "execution_count": 135,
   "metadata": {
    "collapsed": true
   },
   "outputs": [],
   "source": [
    "season_end_team_stats = regular_season_data.groupby(['teamAbbrev','season_id'])[team_stats+['team_season_id']].last()\n",
    "\n",
    "temp_playoff_data = playoff_data[['teamAbbrev','opponentTeamAbbrev','season_id','wins','home_game']].copy()\n",
    "\n",
    "playoff_games = temp_playoff_data.join(season_end_team_stats, on=['teamAbbrev','season_id'])\n",
    "playoff_games = playoff_games.join(season_end_team_stats, on=['opponentTeamAbbrev','season_id'], rsuffix='_opponent')\n",
    "\n",
    "current_season_data = season_end_team_stats.reset_index()\n",
    "current_season_data = current_season_data[current_season_data.season_id == 20152016]"
   ]
  },
  {
   "cell_type": "code",
   "execution_count": 136,
   "metadata": {
    "collapsed": true
   },
   "outputs": [],
   "source": [
    "def make_schedule(home_ice_team, away_ice_team):\n",
    "    series_name = home_ice_team + '_' + away_ice_team\n",
    "    games = [dict(home_team=home_ice_team, away_team=away_ice_team, series_name = series_name) for i in np.arange(4)]\n",
    "    games += [dict(home_team=away_ice_team, away_team=home_ice_team, series_name = series_name) for i in np.arange(3)]\n",
    "    return games"
   ]
  },
  {
   "cell_type": "code",
   "execution_count": 143,
   "metadata": {
    "collapsed": true
   },
   "outputs": [],
   "source": [
    "playoff_schedule = []\n",
    "playoff_schedule += make_schedule('PIT','NYR')\n",
    "playoff_schedule += make_schedule('WSH','PHI')\n",
    "playoff_schedule += make_schedule('FLA','NYI')\n",
    "playoff_schedule += make_schedule('TBL','DET')\n",
    "playoff_schedule += make_schedule('DAL','MIN')\n",
    "playoff_schedule += make_schedule('STL','CHI')\n",
    "playoff_schedule += make_schedule('ANA','NSH')\n",
    "playoff_schedule += make_schedule('LAK','SJS')\n",
    "\n",
    "\n",
    "\n",
    "temp_team_stats = team_stats + ['team_season_id']\n",
    "\n",
    "schedule_df = pandas.DataFrame(playoff_schedule)\n",
    "schedule_df = schedule_df.join(current_season_data.set_index('teamAbbrev')[temp_team_stats], on='home_team')\n",
    "\n",
    "schedule_df = schedule_df.join(current_season_data.set_index('teamAbbrev')[temp_team_stats], on='away_team', rsuffix='_opponent')\n",
    "\n",
    "schedule_df['home_game'] = 1\n",
    "\n",
    "schedule_df.to_csv('round_1_schedule.csv', index=False)"
   ]
  },
  {
   "cell_type": "code",
   "execution_count": null,
   "metadata": {
    "collapsed": true
   },
   "outputs": [],
   "source": []
  }
 ],
 "metadata": {
  "kernelspec": {
   "display_name": "Python 2",
   "language": "python",
   "name": "python2"
  },
  "language_info": {
   "codemirror_mode": {
    "name": "ipython",
    "version": 2
   },
   "file_extension": ".py",
   "mimetype": "text/x-python",
   "name": "python",
   "nbconvert_exporter": "python",
   "pygments_lexer": "ipython2",
   "version": "2.7.11"
  }
 },
 "nbformat": 4,
 "nbformat_minor": 0
}
